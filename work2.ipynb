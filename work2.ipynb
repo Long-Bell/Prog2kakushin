{
  "cells": [
    {
      "cell_type": "markdown",
      "metadata": {
        "id": "view-in-github",
        "colab_type": "text"
      },
      "source": [
        "<a href=\"https://colab.research.google.com/github/Long-Bell/Prog2kakushin/blob/main/work2.ipynb\" target=\"_parent\"><img src=\"https://colab.research.google.com/assets/colab-badge.svg\" alt=\"Open In Colab\"/></a>"
      ]
    },
    {
      "cell_type": "code",
      "source": [
        "import numpy as np\n",
        "import matplotlib.pyplot as plt\n",
        "import IPython\n",
        "\n",
        "pref = ['北海道', '青森', '秋田', '岩手', '山形', '宮城', '福島', '群馬', '栃木', '茨城', '埼玉', '東京', '千葉', '神奈川', '新潟', '長野', '富山', '石川', '福井', '岐阜', '山梨', '静岡', '愛知',\n",
        "        '滋賀', '三重', '京都', '兵庫', '大阪', '奈良', '和歌山', '鳥取', '岡山', '島根', '広島', '山口', '愛媛', '高知', '香川', '徳島', '福岡', '佐賀', '長崎', '大分', '宮崎', '熊本', '鹿児島', '沖縄']\n",
        "num = [[[16,19,19,24,24,16,16],[16,16,17,17,22,22,16]],  [[16,16,22,22,16],[15,12,12,15,15]],  [[16,16,19,19,16],[12,8,8,12,12]],\n",
        "       [[19,19,22,22,19],[12,8,8,12,12]],  [[16,16,17.5,17.5,19,19,16],[8,5,5,4,4,8,8]],  [[19,19,22,22,19],[8,4,4,8,8]],  [[17.5,17.5,22,22,17.5],[4,1,1,4,4]],\n",
        "       [[15,15,17.5,17.5,15],[1,-1.5,-1.5,1,1]],  [[17.5,17.5,20,20,17.5],[1,-1.5,-1.5,1,1]],  [[20,20,18.5,18.5,22,22,20],[1,-1.5,-1.5,-3.2,-3.2,1,1]],\n",
        "       [[15,15,18.5,18.5,15],[-1.5,-3.2,-3.2,-1.5,-1.5]],  [[16,16,19.5,19.5,16],[-3.2,-4.5,-4.5,-3.2,-3.2]],  [[19.5,19.5,20.5,20.5,22,22,19.5],[-3.2,-4.5,-4.5,-7,-7,-3.2,-3.2]],\n",
        "       [[16,16,19.5,19.5,16],[-4.5,-6,-6,-4.5,-4.5]],  [[16,16,12,12,17.5,17.5,16],[5,3,3,1,1,5,5]],  [[11.5,11.5,13.5,13.5,15,15,11.5],[1,-4.5,-4.5,-2.8,-2.8,1,1]],\n",
        "       [[9.5,9.5,12,12,9.5],[3,1,1,3,3]],  [[7.5,7.5,9.5,9.5,7.5],[4,1,1,4,4]],  [[7.5,7.5,4.5,4.5,9,9,7.5],[1,0,0,-1,-1,1,1]],  [[9,9,11.5,11.5,9],[1,-3.5,-3.5,1,1]],\n",
        "       [[13.5,13.5,16,16,15,15,13.5],[-2.8,-4.5,-4.5,-3.2,-3.2,-2.8,-2.8]],  [[12,12,16,16,12],[-4.5,-6.5,-6.5,-4.5,-4.5]],  [[9,9,12,12,11.5,11.5,9],[-3.5,-6.5,-6.5,-4.5,-4.5,-3.5,-3.5]],\n",
        "       [[7,7,9,9,7],[-1,-3,-3,-1,-1]],  [[7,7,9,9,7],[-3,-8,-8,-3,-3]],  [[2.5,2.5,4.5,4.5,7,7,4.5,4.5,2.5],[1,-2,-2,-3,-3,-1,-1,1,1]],  [[0,0,2.5,2.5,0],[1,-3.5,-3.5,1,1]],\n",
        "       [[2.5,2.5,4.5,4.5,2.5],[-2,-4.5,-4.5,-2,-2]],  [[4.5,4.5,7,7,4.5],[-3,-6.5,-6.5,-3,-3]],  [[2.5,2.5,7,7,4.5,4.5,2.5],[-4.5,-8,-8,-6.5,-6.5,-4.5,-4.5]],\n",
        "       [[-3,-3,0,0,-3],[1,-1.2,-1.2,1,1]],  [[-3,-3,0,0,-3],[-1.2,-3.5,-3.5,-1.2,-1.2]],  [[-6,-6,-3,-3,-6],[1,-1.2,-1.2,1,1]],  [[-6,-6,-3,-3,-6],[-1.2,-3.5,-3.5,-1.2,-1.2]],\n",
        "       [[-8,-8,-6,-6,-8],[1,-3.5,-3.5,1,1]],  [[-8,-8,-5,-5,-8],[-5,-7,-7,-5,-5]],  [[-8,-8,-2,-2,-8],[-7,-8.5,-8.5,-7,-7]],  [[-5,-5,-2,-2,-5],[-5,-6,-6,-5,-5]],  [[-5,-5,-2,-2,-5],[-6,-7,-7,-6,-6]],\n",
        "       [[-13.5,-13.5,-11,-11,-9,-9,-13.5],[1,-2.4,-2.4,-1,-1,1,1]],  [[-15.5,-15.5,-13.5,-13.5,-15.5],[1,-2.4,-2.4,1,1]],  [[-17.5,-17.5,-15.5,-15.5,-17.5],[1,-2.4,-2.4,1,1]],\n",
        "       [[-11,-11,-9,-9,-11],[-1,-3.5,-3.5,-1,-1]],  [[-11,-11,-9,-9,-11],[-3.5,-6,-6,-3.5,-3.5]],  [[-13.5,-13.5,-11,-11,-13.5],[-2.4,-6,-6,-2.4,-2.4]],\n",
        "       [[-13.5,-13.5,-9,-9,-13.5],[-6,-8.5,-8.5,-6,-6]],  [[-20,-20,-19,-19,-20],[-10,-13,-13,-10,-10]]]\n",
        "\n",
        "for z in num:\n",
        "  a = np.matrix(z)\n",
        "  a = np.array(a)\n",
        "  plt.fill(a[0,:],a[1,:],color='green')\n",
        "\n",
        "Fs = 48000 #サンプリング周波数（固定，48kHz, １秒間におけるデータ数)\n",
        "TONES = {\n",
        "    'ラ': 880.0, # ラ\n",
        "    'シ': 493.9, # シ\n",
        "    'ド': 523.3, # ド\n",
        "    'レ': 587.3, # レ\n",
        "    'ミ': 659.3, # ミ\n",
        "    'ファ': 698.5, # ファ\n",
        "    'ソ': 784.0, #ソ\n",
        "    'shi': 987.8,\n",
        "    'do': 1046.5,\n",
        "    're': 1174.66,\n",
        "    'ム': 0 #休符\n",
        "}\n",
        "#君が代の音階．\n",
        "f_tone =['レ', 'ド', 'レ', 'ミ', 'ソ', 'ミ', 'レ', 'ミ', 'ソ', 'ラ', 'ソ', 'ラ', 're', 'shi', 'ラ', 'ソ', 'ミ', 'ソ', 'ラ', 're', 'do', 're', 'ミ', 'ソ', 'ラ', 'ソ', 'ミ', 'ソ', 'レ', 'ラ', 'do', 're', 'do', 're', 'ラ', 'ソ', 'ラ', 'ソ', 'ミ', 'レ' ]\n",
        "#変数d_tは各音符の長さを示しています．\n",
        "d_t  = [1, 1, 1, 1, 1, 1, 2, 1, 1, 1, 0.5, 0.5, 1, 1, 1, 1, 1, 1, 2, 1, 1, 2, 1, 1, 1, 1, 1.5, 0.5, 2, 1, 1, 2, 1, 1, 1, 1, 1, 0.5, 0.5, 2] # 音符，休符の長さ\n",
        "a_t  = [1, 1, 1, 1, 1, 1, 1, 1, 1, 1, 1, 1, 1, 1, 1, 1, 1, 1, 1, 1, 1, 1, 1, 1, 1, 1, 1, 1, 1, 1, 1, 1, 1, 1, 1, 1, 1, 1, 1, 1] # 音の大きさ（振幅）　休符では振幅0\n",
        "y = []\n",
        "for x in range(len(f_tone)):\n",
        "  t = np.linspace(0., d_t[x], int(Fs*d_t[x]))\n",
        "  m = list(a_t[x] * np.sin(2.0*np.pi*TONES[f_tone[x]]*t))\n",
        "  y += m\n",
        "\n",
        "p = input('都道府県を入力してください：')\n",
        "\n",
        "if p == '日本':\n",
        "  IPython.display.Audio(y, rate=Fs, autoplay=True)\n",
        "\n",
        "elif p in pref:\n",
        "  n = pref.index(p)\n",
        "  r = np.matrix(num[n])\n",
        "  red = np.array(r)\n",
        "  plt.fill(red[0,:],red[1,:],color='red')\n",
        "\n",
        "else:\n",
        "  print('もう一度入力してください')\n",
        "\n",
        "plt.axis('equal')\n",
        "plt.show()"
      ],
      "metadata": {
        "colab": {
          "base_uri": "https://localhost:8080/",
          "height": 447
        },
        "id": "FTAc5qKszRAC",
        "outputId": "4f47bf7b-910b-4235-aaad-e408031cbd0b"
      },
      "execution_count": 226,
      "outputs": [
        {
          "name": "stdout",
          "output_type": "stream",
          "text": [
            "都道府県を入力してください：鳥取\n"
          ]
        },
        {
          "output_type": "display_data",
          "data": {
            "text/plain": [
              "<Figure size 640x480 with 1 Axes>"
            ],
            "image/png": "[encoded data removed]"
          },
          "metadata": {}
        }
      ]
    }
  ],
  "metadata": {
    "colab": {
      "provenance": [],
      "authorship_tag": "ABX9TyMZl96WgcsET4APvceohc33",
      "include_colab_link": true
    },
    "kernelspec": {
      "display_name": "Python 3",
      "name": "python3"
    },
    "language_info": {
      "name": "python"
    }
  },
  "nbformat": 4,
  "nbformat_minor": 0
}