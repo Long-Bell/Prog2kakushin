{
  "nbformat": 4,
  "nbformat_minor": 0,
  "metadata": {
    "colab": {
      "provenance": [],
      "authorship_tag": "ABX9TyO0Y7TfJnGHr22A3CUog5Y9",
      "include_colab_link": true
    },
    "kernelspec": {
      "name": "python3",
      "display_name": "Python 3"
    },
    "language_info": {
      "name": "python"
    }
  },
  "cells": [
    {
      "cell_type": "markdown",
      "metadata": {
        "id": "view-in-github",
        "colab_type": "text"
      },
      "source": [
        "<a href=\"https://colab.research.google.com/github/Long-Bell/Prog2kakushin/blob/main/work1.ipynb\" target=\"_parent\"><img src=\"https://colab.research.google.com/assets/colab-badge.svg\" alt=\"Open In Colab\"/></a>"
      ]
    },
    {
      "cell_type": "code",
      "execution_count": 84,
      "metadata": {
        "id": "_sHj-FUcJYac",
        "colab": {
          "base_uri": "https://localhost:8080/"
        },
        "outputId": "1bd634e7-c97d-4d3e-e060-de4b9912a320"
      },
      "outputs": [
        {
          "output_type": "stream",
          "name": "stdout",
          "text": [
            "月を入力：12\n",
            "日を入力：19\n",
            "その日の沖縄県那覇市の10年間の平均気温は18.1度です\n",
            "少し肌寒いかも. 長袖がおすすめです\n"
          ]
        },
        {
          "output_type": "stream",
          "name": "stderr",
          "text": [
            "<ipython-input-84-3d2b1a4bebf4>:8: UserWarning: Boolean Series key will be reindexed to match DataFrame index.\n",
            "  df2 = df[df['month']==m][df['day']==d]\n"
          ]
        }
      ],
      "source": [
        "import pandas as pd\n",
        "df = pd.read_csv('Naha average.csv')\n",
        "df.mean(axis=1)\n",
        "\n",
        "m = int(input('月を入力：'))\n",
        "d = int(input('日を入力：'))\n",
        "\n",
        "df2 = df[df['month']==m][df['day']==d]\n",
        "df3 = df2.iloc[:,2:]\n",
        "a = float(df3.mean(axis=1))\n",
        "b = format(a,'.1f')\n",
        "print(f'その日の沖縄県那覇市の10年間の平均気温は{b}度です')\n",
        "\n",
        "B = float(b)\n",
        "\n",
        "if B >= 30:\n",
        "  print('すごく暑いです. 水分補給を忘れずに')\n",
        "elif B >= 25:\n",
        "  print('暑いです. 熱中症に気を付けましょう')\n",
        "elif B >= 20:\n",
        "  print('風があると少し涼しく感じるかも. 寒がりさんは薄めの長袖を持っておくと良いでしょう')\n",
        "elif B >= 15:\n",
        "  print('少し肌寒いかも. 長袖がおすすめです')\n",
        "else:\n",
        "  print('沖縄にしては寒いです. なめすぎない方が良いかと^^')\n"
      ]
    },
    {
      "cell_type": "markdown",
      "source": [],
      "metadata": {
        "id": "WU-lfjfJDk3g"
      }
    }
  ]
}